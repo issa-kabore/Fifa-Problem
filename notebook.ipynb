{
 "cells": [
  {
   "cell_type": "code",
   "execution_count": 3,
   "metadata": {},
   "outputs": [],
   "source": [
    "import numpy as np\n",
    "\n",
    "points  = int(input(f\"Points obtenus : \"))"
   ]
  },
  {
   "cell_type": "code",
   "execution_count": 4,
   "metadata": {},
   "outputs": [
    {
     "data": {
      "text/plain": [
       "36"
      ]
     },
     "execution_count": 4,
     "metadata": {},
     "output_type": "execute_result"
    }
   ],
   "source": [
    "points"
   ]
  },
  {
   "attachments": {},
   "cell_type": "markdown",
   "metadata": {},
   "source": [
    "\\begin{align}\n",
    "x + y  & = 9 \\\\\n",
    "x *4 + y*1  & = points \\\\\n",
    "\\end{align}"
   ]
  },
  {
   "attachments": {},
   "cell_type": "markdown",
   "metadata": {},
   "source": [
    "$$\\begin{bmatrix} 1 & 1 \\\\ 4 & 1\\\\\\end{bmatrix} * \\begin{bmatrix} x \\\\ y\\\\\\end{bmatrix} = \\begin{bmatrix} 9 \\\\ points\\\\\\end{bmatrix} $$"
   ]
  },
  {
   "cell_type": "code",
   "execution_count": 13,
   "metadata": {},
   "outputs": [
    {
     "name": "stdout",
     "output_type": "stream",
     "text": [
      "Au final '5.0' victoires\n",
      "Au final '4.0' defaites\n",
      "Verif:  '5.0'*4 +  '4.0'*1 = 24.0 \n"
     ]
    }
   ],
   "source": [
    "\n",
    "points = 24\n",
    "a = np.array([[1, 1], [4, 1]])\n",
    "b = np.array([9, points])\n",
    "xy = np.linalg.solve(a, b)\n",
    "print(f\"Au final '{xy[0]}' victoires\")\n",
    "print(f\"Au final '{xy[1]}' defaites\")\n",
    "print(f\"Verif:  '{xy[0]}'*4 +  '{xy[1]}'*1 = {xy[0]*4 + xy[1]} \")\n",
    "\n",
    "\n"
   ]
  },
  {
   "cell_type": "code",
   "execution_count": null,
   "metadata": {},
   "outputs": [],
   "source": []
  }
 ],
 "metadata": {
  "kernelspec": {
   "display_name": "base",
   "language": "python",
   "name": "python3"
  },
  "language_info": {
   "codemirror_mode": {
    "name": "ipython",
    "version": 3
   },
   "file_extension": ".py",
   "mimetype": "text/x-python",
   "name": "python",
   "nbconvert_exporter": "python",
   "pygments_lexer": "ipython3",
   "version": "3.9.13"
  },
  "orig_nbformat": 4,
  "vscode": {
   "interpreter": {
    "hash": "9f2f58844970541860a4a22e986adece18332211fd289a23082695c7c4cf9231"
   }
  }
 },
 "nbformat": 4,
 "nbformat_minor": 2
}
